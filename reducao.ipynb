{
 "cells": [
  {
   "cell_type": "markdown",
   "id": "f4afd0e3",
   "metadata": {},
   "source": [
    "# Import Biblioteca"
   ]
  },
  {
   "cell_type": "code",
   "execution_count": 1,
   "id": "4d129e98",
   "metadata": {},
   "outputs": [],
   "source": [
    "import pandas as pd\n",
    "import zipfile\n",
    "import os\n",
    "import json\n",
    "import numpy as np"
   ]
  },
  {
   "cell_type": "markdown",
   "id": "ce58c3da",
   "metadata": {},
   "source": [
    "# Carregando Dados"
   ]
  },
  {
   "cell_type": "code",
   "execution_count": 2,
   "id": "4bf1e264",
   "metadata": {},
   "outputs": [],
   "source": [
    "microdados = pd.read_csv('MICRODADOS_ENEM_2023.csv',encoding='latin1', sep=';')"
   ]
  },
  {
   "cell_type": "markdown",
   "id": "de03eef7",
   "metadata": {},
   "source": [
    "# Transformando"
   ]
  },
  {
   "cell_type": "markdown",
   "id": "c0019cd8",
   "metadata": {},
   "source": [
    "## Filtrando a Base"
   ]
  },
  {
   "cell_type": "code",
   "execution_count": 3,
   "id": "961efa77",
   "metadata": {},
   "outputs": [],
   "source": [
    "df = microdados[(microdados['TP_PRESENCA_CN']==1) &\n",
    "                (microdados['TP_PRESENCA_CH']==1) &\n",
    "                (microdados['TP_PRESENCA_LC']==1) &\n",
    "                (microdados['TP_PRESENCA_MT']==1)\n",
    "                ]"
   ]
  },
  {
   "cell_type": "markdown",
   "id": "69913dde",
   "metadata": {},
   "source": [
    "## Deletando Colunas"
   ]
  },
  {
   "cell_type": "code",
   "execution_count": 4,
   "id": "3dd63c3d",
   "metadata": {},
   "outputs": [],
   "source": [
    "microdados = microdados.drop(columns=[\n",
    "    'TX_GABARITO_CN',\n",
    "    'TX_GABARITO_CH',\n",
    "    'TX_GABARITO_LC',\n",
    "    'TX_GABARITO_MT',\n",
    "    'TX_RESPOSTAS_CN',\n",
    "    'TX_RESPOSTAS_CH',\n",
    "    'TX_RESPOSTAS_LC',\n",
    "    'TX_RESPOSTAS_MT',\n",
    "    'NU_NOTA_COMP1',\n",
    "    'NU_NOTA_COMP2',\n",
    "    'NU_NOTA_COMP3',\n",
    "    'NU_NOTA_COMP4',\n",
    "    'NU_NOTA_COMP5',\n",
    "    'NU_NOTA_REDACAO',\n",
    "    'TP_STATUS_REDACAO',\n",
    "    'CO_PROVA_CN',\n",
    "    'CO_PROVA_CH',\n",
    "    'CO_PROVA_LC',\n",
    "    'CO_PROVA_MT'\n",
    "    ]\n",
    ")"
   ]
  },
  {
   "cell_type": "markdown",
   "id": "5de1088e",
   "metadata": {},
   "source": [
    "## Renomeando Colunas"
   ]
  },
  {
   "cell_type": "code",
   "execution_count": 5,
   "id": "72fa8ec8",
   "metadata": {},
   "outputs": [],
   "source": [
    "microdados = microdados.rename(columns={\n",
    "    'NU_INSCRICAO': 'Numero Inscricao',\n",
    "    'NU_ANO': 'Ano Enem',\n",
    "    'TP_FAIXA_ETARIA': 'Faixa Etaria',\n",
    "    'TP_SEXO': 'Sexo',\n",
    "    'TP_ESTADO_CIVIL': 'Estado Civil',\n",
    "    'TP_COR_RACA': 'Raca',\n",
    "    'TP_NACIONALIDADE': 'Nacionalidade',\n",
    "    'TP_ST_CONCLUSAO': 'Situacao Conclusao EM',\n",
    "    'TP_ANO_CONCLUIU': 'Ano Conclusao EM',\n",
    "    'TP_ESCOLA': 'Escola',\n",
    "    'TP_ENSINO': 'Tipo EM',\n",
    "    'IN_TREINEIRO': 'Treineiro',\n",
    "    'CO_MUNICIPIO_ESC': 'Codigo Municipio Escola',\n",
    "    'NO_MUNICIPIO_ESC': 'Nome Municipio Escola',\n",
    "    'CO_UF_ESC': 'Codigo Federacao Escola',\n",
    "    'SG_UF_ESC': 'Sigla Federacao Escola',\n",
    "    'TP_DEPENDENCIA_ADM_ESC': 'Dependencia ADM Escola',\n",
    "    'TP_LOCALIZACAO_ESC': 'Localizacao Escola',\n",
    "    'TP_SIT_FUNC_ESC': 'Situacao Funcionamento Escola',\n",
    "    'CO_MUNICIPIO_PROVA': 'Codigo Municipio Prova',\n",
    "    'NO_MUNICIPIO_PROVA': 'Nome Municipio Prova',\n",
    "    'CO_UF_PROVA': 'Codigo Federacao Prova',\n",
    "    'SG_UF_PROVA': 'Sigla Federacao Prova',\n",
    "    'TP_PRESENCA_CN': 'Presenca Prova Ciências da Natureza',\n",
    "    'TP_PRESENCA_CH': 'Presenca Prova Ciências Humanas',\n",
    "    'TP_PRESENCA_LC': 'Presenca Prova Linguagens e Códigos',\n",
    "    'TP_PRESENCA_MT': 'Presenca Prova Matemática',\n",
    "    'NU_NOTA_CN': 'Nota Ciências da Natureza',\n",
    "    'NU_NOTA_CH': 'Nota Ciências Humanas',\n",
    "    'NU_NOTA_LC': 'Nota Linguagens e Códigos',\n",
    "    'NU_NOTA_MT': 'Nota Matemática',\n",
    "    'TP_LINGUA': 'Língua Estrangeira',\n",
    "    'Q001': 'Até que série seu pai, ou o homem responsável por você, estudou?',\n",
    "    'Q002': 'Até que série sua mãe, ou a mulher responsável por você, estudou?',\n",
    "    'Q003': 'A partir da apresentação de algumas ocupações divididas em grupos ordenados, indique o grupo que contempla a ocupação mais próxima da ocupação do seu pai ou do homem responsável por você.',\n",
    "    'Q004': 'A partir da apresentação de algumas ocupações divididas em grupos ordenados, indique o grupo que contempla a ocupação mais próxima da ocupação da sua mãe ou da mulher responsável por você.',\n",
    "    'Q005': 'Incluindo você, quantas pessoas moram atualmente em sua residência?',\n",
    "    'Q006': 'Qual é a renda mensal de sua família? (Some a sua renda com a dos seus familiares.)',\n",
    "    'Q007': 'Em sua residência trabalha empregado(a) doméstico(a)?',\n",
    "    'Q008': 'Na sua residência tem banheiro?',\n",
    "    'Q009': 'Na sua residência tem quartos para dormir?',\n",
    "    'Q010': 'Na sua residência tem carro?',\n",
    "    'Q011': 'Na sua residência tem motocicleta?',\n",
    "    'Q012': 'Na sua residência tem geladeira?',\n",
    "    'Q013': 'Na sua residência tem freezer (independente ou segunda porta da geladeira)?',\n",
    "    'Q014': 'Na sua residência tem máquina de lavar roupa? (o tanquinho NÃO deve ser considerado)',\n",
    "    'Q015': 'Na sua residência tem máquina de secar roupa (independente ou em conjunto com a máquina de lavar roupa)?',\n",
    "    'Q016': 'Na sua residência tem forno micro-ondas?',\n",
    "    'Q017': 'Na sua residência tem máquina de lavar louça?',\n",
    "    'Q018': 'Na sua residência tem aspirador de pó?',\n",
    "    'Q019': 'Na sua residência tem televisão em cores?',\n",
    "    'Q020': 'Na sua residência tem aparelho de DVD?',\n",
    "    'Q021': 'Na sua residência tem TV por assinatura?',\n",
    "    'Q022': 'Na sua residência tem telefone celular?',\n",
    "    'Q023': 'Na sua residência tem telefone fixo?',\n",
    "    'Q024': 'Na sua residência tem computador?',\n",
    "    'Q025': 'Na sua residência tem acesso à Internet?'\n",
    "    }\n",
    ")"
   ]
  },
  {
   "cell_type": "markdown",
   "id": "dacb9d05",
   "metadata": {},
   "source": [
    "## Transformando Tipo Coluna"
   ]
  },
  {
   "cell_type": "code",
   "execution_count": 6,
   "id": "73e3af1b",
   "metadata": {},
   "outputs": [],
   "source": [
    "microdados['Numero Inscricao'] = microdados['Numero Inscricao'].astype(str)\n",
    "microdados['Faixa Etaria'] = microdados['Faixa Etaria'].astype(str)\n",
    "microdados['Sexo'] = microdados['Sexo'].astype(str)\n",
    "microdados['Estado Civil'] = microdados['Estado Civil'].astype(str)\n",
    "microdados['Raca'] = microdados['Raca'].astype(str)\n",
    "microdados['Nacionalidade'] = microdados['Nacionalidade'].astype(str)\n",
    "microdados['Situacao Conclusao EM'] = microdados['Situacao Conclusao EM'].astype(str)\n",
    "microdados['Ano Conclusao EM'] = microdados['Ano Conclusao EM'].astype(str)\n",
    "microdados['Escola'] = microdados['Escola'].astype(str)\n",
    "microdados['Tipo EM'] = microdados['Tipo EM'].apply(lambda x: str(int(x)) if pd.notna(x) else np.nan)\n",
    "microdados['Codigo Municipio Escola'] = microdados['Codigo Municipio Escola'].apply(lambda x: str(int(x)) if pd.notna(x) else np.nan)\n",
    "microdados['Codigo Federacao Escola'] = microdados['Codigo Federacao Escola'].apply(lambda x: str(int(x)) if pd.notna(x) else np.nan)\n",
    "microdados['Treineiro'] = microdados['Treineiro'].astype(str)\n",
    "microdados['Dependencia ADM Escola'] = microdados['Dependencia ADM Escola'].apply(lambda x: str(int(x)) if pd.notna(x)else np.nan)\n",
    "microdados['Localizacao Escola'] = microdados['Localizacao Escola'].apply(lambda x: str(int(x)) if pd.notna(x) else np.nan)\n",
    "microdados['Situacao Funcionamento Escola'] = microdados['Situacao Funcionamento Escola'].apply(lambda x: str(int(x)) if pd.notna(x) else np.nan)\n",
    "microdados['Língua Estrangeira'] = microdados['Língua Estrangeira'].astype(str)"
   ]
  },
  {
   "cell_type": "markdown",
   "id": "d2dd2288",
   "metadata": {},
   "source": [
    "## Aplicando o Dicionario no arquivo"
   ]
  },
  {
   "cell_type": "code",
   "execution_count": 7,
   "id": "3e970c13",
   "metadata": {},
   "outputs": [],
   "source": [
    "# Carregar Dicionario JSON\n",
    "with open('dicionario.json', 'r', encoding= 'UTF-8') as f:\n",
    "    substituicoes = json.load(f)\n",
    "\n",
    "# Aplicar substituicao no DataFrame\n",
    "def aplicar_substituicao(df,substituicoes):\n",
    "    for coluna,mapa in substituicoes.items():\n",
    "        if coluna in df.columns:\n",
    "            df[coluna] = df[coluna].replace(mapa)\n",
    "    return df\n",
    "\n",
    "df = aplicar_substituicao(microdados, substituicoes)\n"
   ]
  },
  {
   "cell_type": "markdown",
   "id": "821ef01b",
   "metadata": {},
   "source": [
    "## Fazendo Slice do DataFrame"
   ]
  },
  {
   "cell_type": "code",
   "execution_count": 20,
   "id": "49da35e2",
   "metadata": {},
   "outputs": [
    {
     "name": "stderr",
     "output_type": "stream",
     "text": [
      "C:\\Users\\Leonardo Guimarães\\AppData\\Local\\Temp\\ipykernel_15556\\2731860534.py:5: FutureWarning: DataFrameGroupBy.apply operated on the grouping columns. This behavior is deprecated, and in a future version of pandas the grouping columns will be excluded from the operation. Either pass `include_groups=False` to exclude the groupings or explicitly select the grouping columns after groupby to silence this warning.\n",
      "  amostra = df.groupby([\"Sexo\", \"Sigla Federacao Prova\"], group_keys=False).apply(\n"
     ]
    }
   ],
   "source": [
    "# Define a nova fração (ex: 2.0%)\n",
    "frac = 0.02\n",
    "\n",
    "# Amostragem estratificada por Sexo e UF\n",
    "amostra = df.groupby([\"Sexo\", \"Sigla Federacao Prova\"], group_keys=False).apply(\n",
    "    lambda x: x.sample(frac=frac, random_state=42)\n",
    ").reset_index(drop=True)"
   ]
  },
  {
   "cell_type": "markdown",
   "id": "4c5ac6af",
   "metadata": {},
   "source": [
    "# Exportando"
   ]
  },
  {
   "cell_type": "markdown",
   "id": "40a3f7eb",
   "metadata": {},
   "source": [
    "## Salvando Arquivo"
   ]
  },
  {
   "cell_type": "code",
   "execution_count": 21,
   "id": "7b68957d",
   "metadata": {},
   "outputs": [],
   "source": [
    "# Salva CSV reduzido\n",
    "amostra.to_csv(\"dados_reduzidos.csv\", index=False, encoding=\"latin1\", sep=\";\")"
   ]
  }
 ],
 "metadata": {
  "kernelspec": {
   "display_name": "projeto-enem (3.13.5)",
   "language": "python",
   "name": "python3"
  },
  "language_info": {
   "codemirror_mode": {
    "name": "ipython",
    "version": 3
   },
   "file_extension": ".py",
   "mimetype": "text/x-python",
   "name": "python",
   "nbconvert_exporter": "python",
   "pygments_lexer": "ipython3",
   "version": "3.13.5"
  }
 },
 "nbformat": 4,
 "nbformat_minor": 5
}
